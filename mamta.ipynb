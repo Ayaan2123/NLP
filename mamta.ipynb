{
  "cells": [
    {
      "cell_type": "code",
      "execution_count": null,
      "metadata": {
        "id": "S4HMfXPWIgG5"
      },
      "outputs": [],
      "source": [
        "# Created by:  Sayed Ayaan\n",
        "# Date : 19/3/2025"
      ]
    },
    {
      "cell_type": "code",
      "execution_count": null,
      "metadata": {
        "colab": {
          "base_uri": "https://localhost:8080/"
        },
        "id": "Hd9AWkVeHOOh",
        "outputId": "8b0f9f8e-e409-4468-962e-d577866da6e5"
      },
      "outputs": [
        {
          "name": "stderr",
          "output_type": "stream",
          "text": [
            "[nltk_data] Downloading package stopwords to\n",
            "[nltk_data]     /home/scholar/nltk_data...\n",
            "[nltk_data]   Package stopwords is already up-to-date!\n",
            "[nltk_data] Downloading package wordnet to /home/scholar/nltk_data...\n",
            "[nltk_data]   Package wordnet is already up-to-date!\n"
          ]
        }
      ],
      "source": [
        "import numpy as np\n",
        "import pandas as pd\n",
        "import re\n",
        "import nltk\n",
        "import spacy\n",
        "import string\n",
        "from sklearn.model_selection import train_test_split\n",
        "nltk.download('stopwords')\n",
        "nltk.download('wordnet')\n",
        "from nltk.corpus import stopwords\n",
        "from nltk.stem import WordNetLemmatizer"
      ]
    },
    {
      "cell_type": "code",
      "execution_count": null,
      "metadata": {
        "id": "u4rg1okFIgG-"
      },
      "outputs": [],
      "source": [
        "# !pip install spacy"
      ]
    },
    {
      "cell_type": "code",
      "execution_count": null,
      "metadata": {
        "id": "rrIIZGJiIgG_"
      },
      "outputs": [],
      "source": [
        "# !pip install kagglehub"
      ]
    },
    {
      "cell_type": "code",
      "execution_count": null,
      "metadata": {
        "id": "xKqngceDvBt2",
        "outputId": "cdd5951c-fd4a-40c9-8c60-f8f56ff87d04"
      },
      "outputs": [
        {
          "name": "stdout",
          "output_type": "stream",
          "text": [
            "Path to dataset files: /home/scholar/.cache/kagglehub/datasets/lakshmi25npathi/imdb-dataset-of-50k-movie-reviews/versions/1\n"
          ]
        }
      ],
      "source": [
        "import kagglehub\n",
        "# Download latest version\n",
        "path = kagglehub.dataset_download(\"lakshmi25npathi/imdb-dataset-of-50k-movie-reviews\")\n",
        "print(\"Path to dataset files:\", path)"
      ]
    },
    {
      "cell_type": "code",
      "execution_count": null,
      "metadata": {
        "id": "kjVEVG4Ivskl",
        "outputId": "401c0302-0a91-4f65-e96f-89f817369a7e"
      },
      "outputs": [
        {
          "name": "stdout",
          "output_type": "stream",
          "text": [
            "Path to dataset files: /home/scholar/.cache/kagglehub/datasets/sid321axn/amazon-alexa-reviews/versions/3\n"
          ]
        }
      ],
      "source": [
        "import kagglehub\n",
        "# Download latest version\n",
        "path = kagglehub.dataset_download(\"sid321axn/amazon-alexa-reviews\")\n",
        "print(\"Path to dataset files:\", path)"
      ]
    },
    {
      "cell_type": "code",
      "execution_count": null,
      "metadata": {
        "id": "c9v3jlvasHE8"
      },
      "outputs": [],
      "source": [
        "from sklearn.model_selection import train_test_split\n",
        "from sklearn.linear_model import LogisticRegression\n",
        "from sklearn.ensemble import RandomForestClassifier, GradientBoostingClassifier\n",
        "from sklearn.svm import SVC\n",
        "from sklearn.naive_bayes import MultinomialNB\n",
        "from sklearn.neighbors import KNeighborsClassifier\n",
        "from sklearn.metrics import accuracy_score, classification_report, precision_score,recall_score,f1_score"
      ]
    },
    {
      "cell_type": "code",
      "execution_count": null,
      "metadata": {
        "id": "-w8W_QasIgHA",
        "outputId": "23e79eb6-8fe3-422a-96b3-1157a6548f90"
      },
      "outputs": [
        {
          "name": "stdout",
          "output_type": "stream",
          "text": [
            "amazon_alexa.tsv\n"
          ]
        }
      ],
      "source": [
        "!ls /home/scholar/.cache/kagglehub/datasets/sid321axn/amazon-alexa-reviews/versions/3"
      ]
    },
    {
      "cell_type": "code",
      "execution_count": null,
      "metadata": {
        "id": "sYnM00RMHOQ-"
      },
      "outputs": [],
      "source": [
        "df_imdb = pd.read_csv(\"/home/scholar/.cache/kagglehub/datasets/lakshmi25npathi/imdb-dataset-of-50k-movie-reviews/versions/1/IMDB Dataset.csv\")\n",
        "df_amazon = pd.read_csv(\"/home/scholar/.cache/kagglehub/datasets/sid321axn/amazon-alexa-reviews/versions/3/amazon_alexa.tsv\",sep='\\t')"
      ]
    },
    {
      "cell_type": "code",
      "execution_count": null,
      "metadata": {
        "id": "ujDpYtasIgHA"
      },
      "outputs": [],
      "source": [
        "df_imdb['sentiment'] = [1 if sentiment == 'positive' else 0 for sentiment in df_imdb['sentiment']]"
      ]
    },
    {
      "cell_type": "code",
      "execution_count": null,
      "metadata": {
        "id": "q8O-63GnIgHA"
      },
      "outputs": [],
      "source": [
        "lemmatizer = WordNetLemmatizer()\n",
        "STOPWORDS = set(stopwords.words('english'))\n",
        "def lemmatize_words(text):\n",
        "    return \" \".join([lemmatizer.lemmatize(word) for word in text.split()])\n",
        "\n",
        "def remove_stopwords(text):\n",
        "    \"\"\"custom function to remove the stopwords\"\"\"\n",
        "    return \" \".join([word for word in str(text).split() if word not in STOPWORDS])\n",
        "\n",
        "\n",
        "def clean(df,col):\n",
        "    df[col] = df[col].apply(lambda x:x.lower())\n",
        "    df[col] = df[col].apply(lambda text: remove_stopwords(text))\n",
        "    df[col] = df[col].apply(lambda text: lemmatize_words(text))\n",
        "    return df"
      ]
    },
    {
      "cell_type": "code",
      "execution_count": null,
      "metadata": {
        "id": "sjULUq1kIgHA",
        "outputId": "c27ef745-d8c6-4c84-a72b-6f7e4149330d"
      },
      "outputs": [
        {
          "data": {
            "text/plain": [
              "review       0\n",
              "sentiment    0\n",
              "dtype: int64"
            ]
          },
          "execution_count": 12,
          "metadata": {},
          "output_type": "execute_result"
        }
      ],
      "source": [
        "df_imdb.isna().sum()"
      ]
    },
    {
      "cell_type": "code",
      "execution_count": null,
      "metadata": {
        "id": "E1zgA48VIgHA"
      },
      "outputs": [],
      "source": [
        "df_imdb = clean(df_imdb,'review')"
      ]
    },
    {
      "cell_type": "code",
      "execution_count": null,
      "metadata": {
        "id": "-AVku-VbIgHB"
      },
      "outputs": [],
      "source": [
        "X = df_imdb['review']\n",
        "y = df_imdb['sentiment']\n",
        "\n",
        "X_train, X_test, y_train, y_test = train_test_split(X, y, test_size=0.2, random_state=0, stratify=y)"
      ]
    },
    {
      "cell_type": "code",
      "execution_count": null,
      "metadata": {
        "id": "nemG9KvnIgHB"
      },
      "outputs": [],
      "source": [
        "## Creating bag of words model\n",
        "from sklearn.feature_extraction.text import CountVectorizer\n",
        "cv = CountVectorizer(ngram_range=(2, 2),max_features=15000)\n",
        "X_train_cv = cv.fit_transform(X_train).toarray()\n",
        "X_test_cv = cv.transform(X_test).toarray()\n",
        "\n",
        "## Creating tf-idf model\n",
        "from sklearn.feature_extraction.text import TfidfVectorizer\n",
        "tv = TfidfVectorizer(max_features=15000)\n",
        "X_train_tv = tv.fit_transform(X_train).toarray()\n",
        "X_test_tv = tv.transform(X_test).toarray()"
      ]
    },
    {
      "cell_type": "code",
      "execution_count": null,
      "metadata": {
        "id": "VycekYqVIgHB",
        "outputId": "416a05cc-8cac-4c4c-eb09-d7f482cbdfe6"
      },
      "outputs": [
        {
          "data": {
            "text/plain": [
              "((10000, 15000), (10000, 15000))"
            ]
          },
          "execution_count": 16,
          "metadata": {},
          "output_type": "execute_result"
        }
      ],
      "source": [
        "X_test_cv.shape,X_test_tv.shape"
      ]
    },
    {
      "cell_type": "code",
      "execution_count": null,
      "metadata": {
        "id": "OPcyxefAIgHB"
      },
      "outputs": [],
      "source": [
        "from tqdm import tqdm\n",
        "from sklearn.linear_model import LogisticRegression\n",
        "from sklearn.ensemble import RandomForestClassifier\n",
        "from sklearn.tree import DecisionTreeClassifier\n",
        "from sklearn.naive_bayes import MultinomialNB\n",
        "from sklearn.neighbors import KNeighborsClassifier\n",
        "from sklearn.svm import SVC"
      ]
    },
    {
      "cell_type": "code",
      "execution_count": null,
      "metadata": {
        "id": "PueQjiBwIgHB"
      },
      "outputs": [],
      "source": [
        "def train_models(X_train, X_test, y_train, y_test):\n",
        "    \"\"\"\n",
        "    Trains multiple models and prints the performance metrics in a tabular format.\n",
        "    \"\"\"\n",
        "    from sklearn.linear_model import LogisticRegression\n",
        "    from sklearn.ensemble import RandomForestClassifier\n",
        "    from sklearn.tree import DecisionTreeClassifier\n",
        "    from sklearn.naive_bayes import MultinomialNB\n",
        "    from sklearn.neighbors import KNeighborsClassifier\n",
        "    from sklearn.svm import SVC\n",
        "\n",
        "    # Splitting the dataset\n",
        "\n",
        "\n",
        "    # Define models\n",
        "    models = {\n",
        "        # \"Multinomial NB\": MultinomialNB(),\n",
        "        # \"SVM\": SVC(kernel='linear', probability=True),\n",
        "        # \"KNeighbors\": KNeighborsClassifier(n_jobs=-1),\n",
        "        \"LogisticRegression\": LogisticRegression(n_jobs=-1),\n",
        "        \"Decision Tree\": DecisionTreeClassifier(),\n",
        "        \"Random Forest\": RandomForestClassifier(n_jobs=-1)\n",
        "    }\n",
        "\n",
        "    # Initialize list to store results\n",
        "    results = []\n",
        "\n",
        "    # Train and evaluate models\n",
        "    for name, model in tqdm(models.items()):\n",
        "        print(f\"\\n🔹 Training {name}...\")\n",
        "        model.fit(X_train, y_train)\n",
        "        y_pred = model.predict(X_test)\n",
        "\n",
        "        accuracy = accuracy_score(y_test, y_pred) * 100\n",
        "        precision = precision_score(y_test, y_pred) * 100\n",
        "        recall = recall_score(y_test, y_pred) * 100\n",
        "        f1 = f1_score(y_test, y_pred) * 100\n",
        "\n",
        "        # Store results\n",
        "        results.append([name, round(accuracy, 2), round(precision, 2), round(recall, 2), round(f1, 2)])\n",
        "\n",
        "    # Convert results to DataFrame\n",
        "    df = pd.DataFrame(results, columns=[\"Classifier\", \"A\", \"P\", \"R\", \"F1\"])\n",
        "\n",
        "    # # Print in tabular format\n",
        "    # print(\"\\n📊 **IMDB Dataset Performance**\\n\")\n",
        "    # print(tabulate(df, headers=\"keys\", tablefmt=\"grid\"))\n",
        "\n",
        "    return df  # Returning DataFrame for further use"
      ]
    },
    {
      "cell_type": "code",
      "execution_count": null,
      "metadata": {
        "id": "Dv_V6W5RIgHB",
        "outputId": "c52d8286-09bf-48e4-dda5-5ed45dd2fc34"
      },
      "outputs": [
        {
          "name": "stderr",
          "output_type": "stream",
          "text": [
            "  0%|                                                                                    | 0/3 [00:00<?, ?it/s]"
          ]
        },
        {
          "name": "stdout",
          "output_type": "stream",
          "text": [
            "\n",
            "🔹 Training LogisticRegression...\n"
          ]
        },
        {
          "name": "stderr",
          "output_type": "stream",
          "text": [
            " 33%|█████████████████████████                                                  | 1/3 [04:09<08:19, 249.97s/it]"
          ]
        },
        {
          "name": "stdout",
          "output_type": "stream",
          "text": [
            "\n",
            "🔹 Training Decision Tree...\n"
          ]
        },
        {
          "name": "stderr",
          "output_type": "stream",
          "text": [
            " 67%|████████████████████████████████████████████████                        | 2/3 [1:02:50<36:14, 2174.12s/it]"
          ]
        },
        {
          "name": "stdout",
          "output_type": "stream",
          "text": [
            "\n",
            "🔹 Training Random Forest...\n"
          ]
        },
        {
          "name": "stderr",
          "output_type": "stream",
          "text": [
            "100%|████████████████████████████████████████████████████████████████████████| 3/3 [1:07:46<00:00, 1355.47s/it]\n"
          ]
        },
        {
          "data": {
            "text/html": [
              "<div>\n",
              "<style scoped>\n",
              "    .dataframe tbody tr th:only-of-type {\n",
              "        vertical-align: middle;\n",
              "    }\n",
              "\n",
              "    .dataframe tbody tr th {\n",
              "        vertical-align: top;\n",
              "    }\n",
              "\n",
              "    .dataframe thead th {\n",
              "        text-align: right;\n",
              "    }\n",
              "</style>\n",
              "<table border=\"1\" class=\"dataframe\">\n",
              "  <thead>\n",
              "    <tr style=\"text-align: right;\">\n",
              "      <th></th>\n",
              "      <th>Classifier</th>\n",
              "      <th>A</th>\n",
              "      <th>P</th>\n",
              "      <th>R</th>\n",
              "      <th>F1</th>\n",
              "    </tr>\n",
              "  </thead>\n",
              "  <tbody>\n",
              "    <tr>\n",
              "      <th>0</th>\n",
              "      <td>LogisticRegression</td>\n",
              "      <td>83.14</td>\n",
              "      <td>82.97</td>\n",
              "      <td>83.40</td>\n",
              "      <td>83.18</td>\n",
              "    </tr>\n",
              "    <tr>\n",
              "      <th>1</th>\n",
              "      <td>Decision Tree</td>\n",
              "      <td>71.96</td>\n",
              "      <td>71.89</td>\n",
              "      <td>72.12</td>\n",
              "      <td>72.00</td>\n",
              "    </tr>\n",
              "    <tr>\n",
              "      <th>2</th>\n",
              "      <td>Random Forest</td>\n",
              "      <td>79.09</td>\n",
              "      <td>79.10</td>\n",
              "      <td>79.08</td>\n",
              "      <td>79.09</td>\n",
              "    </tr>\n",
              "  </tbody>\n",
              "</table>\n",
              "</div>"
            ],
            "text/plain": [
              "           Classifier      A      P      R     F1\n",
              "0  LogisticRegression  83.14  82.97  83.40  83.18\n",
              "1       Decision Tree  71.96  71.89  72.12  72.00\n",
              "2       Random Forest  79.09  79.10  79.08  79.09"
            ]
          },
          "execution_count": 19,
          "metadata": {},
          "output_type": "execute_result"
        }
      ],
      "source": [
        "train_models(X_train_cv, X_test_cv, y_train, y_test)"
      ]
    },
    {
      "cell_type": "code",
      "execution_count": null,
      "metadata": {
        "id": "xS0tVunaIgHC",
        "outputId": "d8c4a8dd-4c7e-41d9-ac91-f5f1961da8cb"
      },
      "outputs": [
        {
          "name": "stderr",
          "output_type": "stream",
          "text": [
            "  0%|                                                                                    | 0/3 [00:00<?, ?it/s]"
          ]
        },
        {
          "name": "stdout",
          "output_type": "stream",
          "text": [
            "\n",
            "🔹 Training LogisticRegression...\n"
          ]
        },
        {
          "name": "stderr",
          "output_type": "stream",
          "text": [
            " 33%|█████████████████████████                                                  | 1/3 [02:04<04:08, 124.24s/it]"
          ]
        },
        {
          "name": "stdout",
          "output_type": "stream",
          "text": [
            "\n",
            "🔹 Training Decision Tree...\n"
          ]
        },
        {
          "name": "stderr",
          "output_type": "stream",
          "text": [
            " 67%|██████████████████████████████████████████████████                         | 2/3 [16:39<09:25, 565.76s/it]"
          ]
        },
        {
          "name": "stdout",
          "output_type": "stream",
          "text": [
            "\n",
            "🔹 Training Random Forest...\n"
          ]
        },
        {
          "name": "stderr",
          "output_type": "stream",
          "text": [
            "100%|███████████████████████████████████████████████████████████████████████████| 3/3 [18:05<00:00, 361.70s/it]\n"
          ]
        },
        {
          "data": {
            "text/html": [
              "<div>\n",
              "<style scoped>\n",
              "    .dataframe tbody tr th:only-of-type {\n",
              "        vertical-align: middle;\n",
              "    }\n",
              "\n",
              "    .dataframe tbody tr th {\n",
              "        vertical-align: top;\n",
              "    }\n",
              "\n",
              "    .dataframe thead th {\n",
              "        text-align: right;\n",
              "    }\n",
              "</style>\n",
              "<table border=\"1\" class=\"dataframe\">\n",
              "  <thead>\n",
              "    <tr style=\"text-align: right;\">\n",
              "      <th></th>\n",
              "      <th>Classifier</th>\n",
              "      <th>A</th>\n",
              "      <th>P</th>\n",
              "      <th>R</th>\n",
              "      <th>F1</th>\n",
              "    </tr>\n",
              "  </thead>\n",
              "  <tbody>\n",
              "    <tr>\n",
              "      <th>0</th>\n",
              "      <td>LogisticRegression</td>\n",
              "      <td>89.41</td>\n",
              "      <td>88.27</td>\n",
              "      <td>90.90</td>\n",
              "      <td>89.57</td>\n",
              "    </tr>\n",
              "    <tr>\n",
              "      <th>1</th>\n",
              "      <td>Decision Tree</td>\n",
              "      <td>72.11</td>\n",
              "      <td>72.39</td>\n",
              "      <td>71.48</td>\n",
              "      <td>71.93</td>\n",
              "    </tr>\n",
              "    <tr>\n",
              "      <th>2</th>\n",
              "      <td>Random Forest</td>\n",
              "      <td>85.31</td>\n",
              "      <td>85.80</td>\n",
              "      <td>84.62</td>\n",
              "      <td>85.21</td>\n",
              "    </tr>\n",
              "  </tbody>\n",
              "</table>\n",
              "</div>"
            ],
            "text/plain": [
              "           Classifier      A      P      R     F1\n",
              "0  LogisticRegression  89.41  88.27  90.90  89.57\n",
              "1       Decision Tree  72.11  72.39  71.48  71.93\n",
              "2       Random Forest  85.31  85.80  84.62  85.21"
            ]
          },
          "execution_count": 20,
          "metadata": {},
          "output_type": "execute_result"
        }
      ],
      "source": [
        "train_models(X_train_tv, X_test_tv, y_train, y_test)"
      ]
    },
    {
      "cell_type": "code",
      "execution_count": null,
      "metadata": {
        "id": "RBA41lfVIgHC",
        "outputId": "f3b3dfa8-97cb-4d3c-9d5e-4bd37fbe5bcb"
      },
      "outputs": [
        {
          "name": "stdout",
          "output_type": "stream",
          "text": [
            "              total        used        free      shared  buff/cache   available\n",
            "Mem:             94          18          67           0           8          75\n",
            "Swap:             7           1           6\n"
          ]
        }
      ],
      "source": [
        "# display memory usage in gigabytes (GB) free -h\n",
        "!free -g"
      ]
    },
    {
      "cell_type": "code",
      "execution_count": null,
      "metadata": {
        "id": "2M1AtN14IgHC",
        "outputId": "7375ac40-f76a-4841-e816-7019d7c723ea"
      },
      "outputs": [
        {
          "name": "stdout",
          "output_type": "stream",
          "text": [
            "              total        used        free      shared  buff/cache   available\n",
            "Mem:           94Gi        18Gi        67Gi       2.0Mi       8.4Gi        75Gi\n",
            "Swap:         8.0Gi       1.8Gi       6.2Gi\n"
          ]
        }
      ],
      "source": [
        "!free -h"
      ]
    },
    {
      "cell_type": "code",
      "execution_count": null,
      "metadata": {
        "id": "1VVnfcQ2IgHC"
      },
      "outputs": [],
      "source": []
    }
  ],
  "metadata": {
    "colab": {
      "provenance": []
    },
    "kernelspec": {
      "display_name": "Python 3 (ipykernel)",
      "language": "python",
      "name": "python3"
    },
    "language_info": {
      "codemirror_mode": {
        "name": "ipython",
        "version": 3
      },
      "file_extension": ".py",
      "mimetype": "text/x-python",
      "name": "python",
      "nbconvert_exporter": "python",
      "pygments_lexer": "ipython3",
      "version": "3.12.0"
    }
  },
  "nbformat": 4,
  "nbformat_minor": 0
}